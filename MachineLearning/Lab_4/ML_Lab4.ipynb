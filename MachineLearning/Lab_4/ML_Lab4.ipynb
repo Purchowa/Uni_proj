{
 "cells": [
  {
   "cell_type": "markdown",
   "id": "4e6ab942ef1bc5b2",
   "metadata": {
    "collapsed": false
   },
   "source": [
    "Model, który ocenia czy recenzja jest pozytywna czy negatywna."
   ]
  },
  {
   "cell_type": "markdown",
   "id": "c2f2c682e64a5252",
   "metadata": {
    "collapsed": false
   },
   "source": [
    "Wczytanie danych z plików"
   ]
  },
  {
   "cell_type": "code",
   "execution_count": 4,
   "id": "62aad7ac4a2d04a1",
   "metadata": {
    "ExecuteTime": {
     "end_time": "2023-11-24T08:25:23.185176800Z",
     "start_time": "2023-11-24T08:25:23.154092900Z"
    },
    "collapsed": false
   },
   "outputs": [],
   "source": [
    "with open('positive.txt', 'r', encoding='utf-8') as file:\n",
    "    positive_data = file.readlines()\n",
    "\n",
    "with open('negative.txt', 'r', encoding='utf-8') as file:\n",
    "    negative_data = file.readlines()"
   ]
  },
  {
   "cell_type": "markdown",
   "id": "103b7948895fb1e9",
   "metadata": {
    "collapsed": false
   },
   "source": [
    "Przydzielanie klas"
   ]
  },
  {
   "cell_type": "code",
   "execution_count": 5,
   "id": "46cf8211d81f60f4",
   "metadata": {
    "ExecuteTime": {
     "end_time": "2023-11-24T08:25:23.217090200Z",
     "start_time": "2023-11-24T08:25:23.155749600Z"
    },
    "collapsed": false
   },
   "outputs": [
    {
     "data": {
      "text/html": [
       "<div>\n",
       "<style scoped>\n",
       "    .dataframe tbody tr th:only-of-type {\n",
       "        vertical-align: middle;\n",
       "    }\n",
       "\n",
       "    .dataframe tbody tr th {\n",
       "        vertical-align: top;\n",
       "    }\n",
       "\n",
       "    .dataframe thead th {\n",
       "        text-align: right;\n",
       "    }\n",
       "</style>\n",
       "<table border=\"1\" class=\"dataframe\">\n",
       "  <thead>\n",
       "    <tr style=\"text-align: right;\">\n",
       "      <th></th>\n",
       "      <th>text</th>\n",
       "      <th>class</th>\n",
       "    </tr>\n",
       "  </thead>\n",
       "  <tbody>\n",
       "    <tr>\n",
       "      <th>0</th>\n",
       "      <td>Niesamowity film! Fabuła, aktorstwo, wszystko ...</td>\n",
       "      <td>0</td>\n",
       "    </tr>\n",
       "    <tr>\n",
       "      <th>1</th>\n",
       "      <td>Wspaniała rozrywka. Nie mogłem oderwać się od ...</td>\n",
       "      <td>0</td>\n",
       "    </tr>\n",
       "    <tr>\n",
       "      <th>2</th>\n",
       "      <td>Doskonały scenariusz i genialne zakończenie. B...</td>\n",
       "      <td>0</td>\n",
       "    </tr>\n",
       "    <tr>\n",
       "      <th>3</th>\n",
       "      <td>Pełen humoru i wzruszający. Naprawdę warto obe...</td>\n",
       "      <td>0</td>\n",
       "    </tr>\n",
       "    <tr>\n",
       "      <th>4</th>\n",
       "      <td>Fantastyczne efekty specjalne. Film robi ogrom...</td>\n",
       "      <td>0</td>\n",
       "    </tr>\n",
       "  </tbody>\n",
       "</table>\n",
       "</div>"
      ],
      "text/plain": [
       "                                                text  class\n",
       "0  Niesamowity film! Fabuła, aktorstwo, wszystko ...      0\n",
       "1  Wspaniała rozrywka. Nie mogłem oderwać się od ...      0\n",
       "2  Doskonały scenariusz i genialne zakończenie. B...      0\n",
       "3  Pełen humoru i wzruszający. Naprawdę warto obe...      0\n",
       "4  Fantastyczne efekty specjalne. Film robi ogrom...      0"
      ]
     },
     "execution_count": 5,
     "metadata": {},
     "output_type": "execute_result"
    }
   ],
   "source": [
    "import pandas as pd\n",
    "\n",
    "df_positive = pd.DataFrame({'text': positive_data , 'class': 0})\n",
    "df_negative = pd.DataFrame({'text': negative_data, 'class': 1})\n",
    "\n",
    "df_positive.head()"
   ]
  },
  {
   "cell_type": "markdown",
   "id": "600d3293bb887cfb",
   "metadata": {
    "collapsed": false
   },
   "source": [
    "Zamieszanie danymi\n",
    "df.sample(frac=x) -> argument frac mowi jaki procent wierszy ma zostac losowo zamieszany (1 = 100%)\n",
    "df.reset_index(drop=True) - resetuje indeks usuwając stare indeksy\n",
    "shuffle robi się by zmniejszyć zagrożenie overfittingu"
   ]
  },
  {
   "cell_type": "code",
   "execution_count": 6,
   "id": "bf173b3d112ad9f2",
   "metadata": {
    "ExecuteTime": {
     "end_time": "2023-11-24T08:25:23.217090200Z",
     "start_time": "2023-11-24T08:25:23.169297700Z"
    },
    "collapsed": false
   },
   "outputs": [
    {
     "data": {
      "text/html": [
       "<div>\n",
       "<style scoped>\n",
       "    .dataframe tbody tr th:only-of-type {\n",
       "        vertical-align: middle;\n",
       "    }\n",
       "\n",
       "    .dataframe tbody tr th {\n",
       "        vertical-align: top;\n",
       "    }\n",
       "\n",
       "    .dataframe thead th {\n",
       "        text-align: right;\n",
       "    }\n",
       "</style>\n",
       "<table border=\"1\" class=\"dataframe\">\n",
       "  <thead>\n",
       "    <tr style=\"text-align: right;\">\n",
       "      <th></th>\n",
       "      <th>text</th>\n",
       "      <th>class</th>\n",
       "    </tr>\n",
       "  </thead>\n",
       "  <tbody>\n",
       "    <tr>\n",
       "      <th>0</th>\n",
       "      <td>Intrygujący i pełen niespodzianek. Bardzo pole...</td>\n",
       "      <td>0</td>\n",
       "    </tr>\n",
       "    <tr>\n",
       "      <th>1</th>\n",
       "      <td>Brak zrównoważenia między wątkami. Niektóre są...</td>\n",
       "      <td>1</td>\n",
       "    </tr>\n",
       "    <tr>\n",
       "      <th>2</th>\n",
       "      <td>Kapitalne ujęcia kamery. Każda scena jest jak ...</td>\n",
       "      <td>0</td>\n",
       "    </tr>\n",
       "    <tr>\n",
       "      <th>3</th>\n",
       "      <td>Wciągająca fabuła. Trudno przewidzieć, co wyda...</td>\n",
       "      <td>0</td>\n",
       "    </tr>\n",
       "    <tr>\n",
       "      <th>4</th>\n",
       "      <td>Film, który nie trzyma tempa. W pewnym momenci...</td>\n",
       "      <td>1</td>\n",
       "    </tr>\n",
       "  </tbody>\n",
       "</table>\n",
       "</div>"
      ],
      "text/plain": [
       "                                                text  class\n",
       "0  Intrygujący i pełen niespodzianek. Bardzo pole...      0\n",
       "1  Brak zrównoważenia między wątkami. Niektóre są...      1\n",
       "2  Kapitalne ujęcia kamery. Każda scena jest jak ...      0\n",
       "3  Wciągająca fabuła. Trudno przewidzieć, co wyda...      0\n",
       "4  Film, który nie trzyma tempa. W pewnym momenci...      1"
      ]
     },
     "execution_count": 6,
     "metadata": {},
     "output_type": "execute_result"
    }
   ],
   "source": [
    "df_all = pd.concat([df_positive, df_negative]).sample(frac=1, random_state=1).reset_index(drop=True)\n",
    "df_all.head()"
   ]
  },
  {
   "cell_type": "markdown",
   "id": "2a212b93928d015e",
   "metadata": {
    "collapsed": false
   },
   "source": [
    "Tworzenie Bag of Words"
   ]
  },
  {
   "cell_type": "code",
   "execution_count": 7,
   "id": "59383af1d8e35a12",
   "metadata": {
    "ExecuteTime": {
     "end_time": "2023-11-24T08:25:23.217090200Z",
     "start_time": "2023-11-24T08:25:23.190679400Z"
    },
    "collapsed": false
   },
   "outputs": [],
   "source": [
    "from sklearn.feature_extraction.text import CountVectorizer\n",
    "\n",
    "def analyze_word_df(words_df: pd.DataFrame):\n",
    "    vectorizer = CountVectorizer()\n",
    "    bag = vectorizer.fit_transform(words_df)        \n",
    "    bag_unique = vectorizer.get_feature_names_out()\n",
    "    # print(\"Słownik (unikalne słowa):\", bag_unique)\n",
    "    bag_array = bag.toarray()\n",
    "    # print(\"Macierz Bag of Words:\", bag_array)\n",
    "    max_idx = bag_array.sum(0).argmax()\n",
    "    # print(f'Najczęściej występujące słowo dla całego zbioru: {bag_unique[max_idx]}')\n",
    "    return bag_unique[max_idx]\n",
    "    "
   ]
  },
  {
   "cell_type": "markdown",
   "id": "937a39bd7f3d9ccb",
   "metadata": {
    "collapsed": false
   },
   "source": [
    "Częstości słów dla całego zbioru, pozytywne i negatywne"
   ]
  },
  {
   "cell_type": "code",
   "execution_count": 8,
   "id": "4b7ff9ce630f0588",
   "metadata": {
    "ExecuteTime": {
     "end_time": "2023-11-24T08:26:32.479170100Z",
     "start_time": "2023-11-24T08:26:32.459674100Z"
    },
    "collapsed": false
   },
   "outputs": [
    {
     "name": "stdout",
     "output_type": "stream",
     "text": [
      "Najczęściej występujące słowo dla całego zbioru: film\n",
      "Najczęściej występujące słowo dla zbioru pozytywnego: film\n",
      "Najczęściej występujące słowo dla zbioru negatywnego: nie\n"
     ]
    }
   ],
   "source": [
    "most_frequent_all = analyze_word_df(df_all.text)\n",
    "print(f'Najczęściej występujące słowo dla całego zbioru: {most_frequent_all}')\n",
    "\n",
    "most_frequent_positive = analyze_word_df(df_positive.text)\n",
    "print(f'Najczęściej występujące słowo dla zbioru pozytywnego: { most_frequent_positive }')\n",
    "\n",
    "most_frequent_negative = analyze_word_df(df_negative.text)\n",
    "print(f'Najczęściej występujące słowo dla zbioru negatywnego: { most_frequent_negative }')\n"
   ]
  }
 ],
 "metadata": {
  "kernelspec": {
   "display_name": "Python 3",
   "language": "python",
   "name": "python3"
  },
  "language_info": {
   "codemirror_mode": {
    "name": "ipython",
    "version": 3
   },
   "file_extension": ".py",
   "mimetype": "text/x-python",
   "name": "python",
   "nbconvert_exporter": "python",
   "pygments_lexer": "ipython3",
   "version": "3.11.7"
  }
 },
 "nbformat": 4,
 "nbformat_minor": 5
}
