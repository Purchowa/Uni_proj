{
 "cells": [
  {
   "cell_type": "code",
   "execution_count": 1,
   "id": "initial_id",
   "metadata": {
    "collapsed": true,
    "ExecuteTime": {
     "end_time": "2023-11-24T07:49:01.264592400Z",
     "start_time": "2023-11-24T07:49:00.651246200Z"
    }
   },
   "outputs": [
    {
     "name": "stdout",
     "output_type": "stream",
     "text": [
      "Słownik (unikalne słowa): ['dokument' 'dwa' 'jest' 'numer' 'ostatni' 'pierwszy' 'to' 'tym' 'zbiorze']\n",
      "Macierz Bag of Words:\n",
      "[[1 0 1 0 0 1 1 0 0]\n",
      " [1 1 0 1 0 0 0 0 0]\n",
      " [1 0 0 0 1 0 0 1 1]]\n"
     ]
    }
   ],
   "source": [
    "from sklearn.feature_extraction.text import CountVectorizer\n",
    "# Przykładowe dokumenty tekstowe\n",
    "documents = [\n",
    " \"To jest pierwszy dokument.\",\n",
    " \"Dokument numer dwa.\",\n",
    " \"Ostatni dokument w tym zbiorze.\"\n",
    "]\n",
    "# Inicjalizacja obiektu CountVectorizer\n",
    "vectorizer = CountVectorizer()\n",
    "# Przetwarzanie i transformacja dokumentów za pomocą Bag of Words\n",
    "X = vectorizer.fit_transform(documents)\n",
    "# Wyświetlenie słownika (unikalnych słów)\n",
    "print(\"Słownik (unikalne słowa):\", vectorizer.get_feature_names_out())\n",
    "# Wyświetlenie macierzy Bag of Words\n",
    "print(\"Macierz Bag of Words:\")\n",
    "print(X.toarray())\n"
   ]
  }
 ],
 "metadata": {
  "kernelspec": {
   "display_name": "Python 3",
   "language": "python",
   "name": "python3"
  },
  "language_info": {
   "codemirror_mode": {
    "name": "ipython",
    "version": 2
   },
   "file_extension": ".py",
   "mimetype": "text/x-python",
   "name": "python",
   "nbconvert_exporter": "python",
   "pygments_lexer": "ipython2",
   "version": "2.7.6"
  }
 },
 "nbformat": 4,
 "nbformat_minor": 5
}
