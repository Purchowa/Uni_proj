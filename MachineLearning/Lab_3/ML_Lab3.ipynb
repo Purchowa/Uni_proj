{
 "cells": [
  {
   "cell_type": "code",
   "execution_count": 16,
   "id": "initial_id",
   "metadata": {
    "ExecuteTime": {
     "end_time": "2023-11-24T07:49:01.264592400Z",
     "start_time": "2023-11-24T07:49:00.651246200Z"
    },
    "collapsed": true
   },
   "outputs": [
    {
     "name": "stdout",
     "output_type": "stream",
     "text": [
      "Słownik (unikalne słowa): ['dokument' 'dwa' 'jest' 'numer' 'ostatni' 'pierwszy' 'to' 'tym' 'zbiorze']\n",
      "Macierz Bag of Words:\n",
      "[[1 0 1 0 0 1 1 0 0]\n",
      " [1 1 0 1 0 0 0 0 0]\n",
      " [1 0 0 0 1 0 0 1 1]]\n"
     ]
    }
   ],
   "source": [
    "from sklearn.feature_extraction.text import CountVectorizer\n",
    "# Przykładowe dokumenty tekstowe\n",
    "documents = [\n",
    " \"To jest pierwszy dokument.\",\n",
    " \"Dokument numer dwa.\",\n",
    " \"Ostatni dokument w tym zbiorze.\"\n",
    "]\n",
    "# Inicjalizacja obiektu CountVectorizer\n",
    "vectorizer = CountVectorizer()\n",
    "# Przetwarzanie i transformacja dokumentów za pomocą Bag of Words\n",
    "X = vectorizer.fit_transform(documents)\n",
    "# Wyświetlenie słownika (unikalnych słów)\n",
    "print(\"Słownik (unikalne słowa):\", vectorizer.get_feature_names_out())\n",
    "# Wyświetlenie macierzy Bag of Words\n",
    "print(\"Macierz Bag of Words:\")\n",
    "print(X.toarray())\n"
   ]
  },
  {
   "cell_type": "code",
   "execution_count": 17,
   "id": "c2eab739",
   "metadata": {},
   "outputs": [
    {
     "name": "stdout",
     "output_type": "stream",
     "text": [
      "Słownik (unikalne słowa): ['to', 'jest', 'pierwszy', 'dokument', 'numer', 'dwa', 'ostatni', 'tym', 'zbiorze']\n",
      "Macierz Bag of Words:\n",
      "[True, True, True, True, False, False, False, False, False]\n",
      "[False, False, False, True, True, True, False, False, False]\n",
      "[False, False, False, True, False, False, True, True, True]\n"
     ]
    }
   ],
   "source": [
    "import re\n",
    "\n",
    "# Przykładowe dokumenty tekstowe\n",
    "documents = [\n",
    " \"To jest pierwszy dokument.\",\n",
    " \"Dokument numer dwa.\",\n",
    " \"Ostatni dokument w tym zbiorze.\"\n",
    "]\n",
    "\n",
    "# Tokenizacja i oczyszczanie tekstu (użyj metody split)\n",
    "def preprocess_text(text: str):\n",
    "    # Usunięcie znaków interpunkcyjnych i zamiana na małe litery\n",
    "    text = re.sub(r'[^\\w\\s]', '', text.lower())\n",
    "    # Tokenizacja po spacjach\n",
    "    # return text.split(' ')\n",
    "    return re.findall(r'\\b\\w{2,}\\b', text)\n",
    "\n",
    "# Stworzenie słownika i policzenie częstości słów\n",
    "word_counts = {}\n",
    "for document in documents:\n",
    "    tokens = preprocess_text(document)\n",
    "    #użyj słownika do zliczenia tokentów w dokumencie (key=token, val=ilość wystąpień)\n",
    "    for token in tokens:\n",
    "        word_counts[token] = word_counts.setdefault(token, 0) + 1 # setdefault - zwraca wartosc spod klucza, a jesli klucz nie istnieje to dodaje nowy klucz\n",
    "  \n",
    "# Utworzenie słownika (unikalne słowa)\n",
    "# utwórz listę z kluczy słownika (użyj list() oraz slownik.keys())\n",
    "\n",
    "vocabulary = list(word_counts.keys())\n",
    "\n",
    "# Utworzenie macierzy Bag of Words\n",
    "bow_matrix = []\n",
    "for document in documents:\n",
    "    tokens = preprocess_text(document)\n",
    "    # dla danego dokumentu utwórz wektor BoW na podstawie vocabulary \n",
    "    bow_vector = [word in tokens for word in vocabulary ]\n",
    "    # dodaj wektor do macierzy BoW\n",
    "    bow_matrix.append(bow_vector)\n",
    "\n",
    "# Wyświetlenie słownika (unikalne słowa)\n",
    "print(\"Słownik (unikalne słowa):\", vocabulary)\n",
    "\n",
    "# Wyświetlenie macierzy Bag of Words\n",
    "print(\"Macierz Bag of Words:\")\n",
    "for bow_vector in bow_matrix:\n",
    "    print(bow_vector)"
   ]
  }
 ],
 "metadata": {
  "kernelspec": {
   "display_name": "Python 3",
   "language": "python",
   "name": "python3"
  },
  "language_info": {
   "codemirror_mode": {
    "name": "ipython",
    "version": 3
   },
   "file_extension": ".py",
   "mimetype": "text/x-python",
   "name": "python",
   "nbconvert_exporter": "python",
   "pygments_lexer": "ipython3",
   "version": "3.11.7"
  }
 },
 "nbformat": 4,
 "nbformat_minor": 5
}
